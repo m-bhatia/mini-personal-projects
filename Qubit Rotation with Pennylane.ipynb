{
 "cells": [
  {
   "cell_type": "markdown",
   "id": "ff6c2375",
   "metadata": {},
   "source": [
    "The goal of this mini-project is to optimize a simple quantum circuit to flip its input (|0>) to |1>. I'm following https://pennylane.ai/qml/demos/tutorial_qubit_rotation.html"
   ]
  },
  {
   "cell_type": "code",
   "execution_count": 4,
   "id": "bfcd7894",
   "metadata": {},
   "outputs": [
    {
     "name": "stdout",
     "output_type": "stream",
     "text": [
      "0.8515405859048367\n"
     ]
    }
   ],
   "source": [
    "import pennylane as qml\n",
    "from pennylane import numpy as np\n",
    "\n",
    "dev1 = qml.device(\"default.qubit\", wires=1)\n",
    "\n",
    "@qml.qnode(dev1)\n",
    "def circuit(params):\n",
    "    qml.RX(params[0], wires=0)\n",
    "    qml.RY(params[1], wires=0)\n",
    "    return qml.expval(qml.PauliZ(0))\n",
    "\n",
    "print(circuit([0.54, 0.12]))"
   ]
  },
  {
   "cell_type": "code",
   "execution_count": 6,
   "id": "9741ad37",
   "metadata": {},
   "outputs": [
    {
     "name": "stdout",
     "output_type": "stream",
     "text": [
      "[array(-0.51043865), array(-0.1026782)]\n"
     ]
    }
   ],
   "source": [
    "dcircuit = qml.grad(circuit, argnum=0)\n",
    "print(dcircuit([0.54, 0.12]))"
   ]
  },
  {
   "cell_type": "markdown",
   "id": "50f03c69",
   "metadata": {},
   "source": [
    "Suppose our desired outcome is a Pauli-Z expectation value of -1"
   ]
  },
  {
   "cell_type": "code",
   "execution_count": 7,
   "id": "9404de8a",
   "metadata": {},
   "outputs": [],
   "source": [
    "def cost(x):\n",
    "    return circuit(x)"
   ]
  },
  {
   "cell_type": "code",
   "execution_count": 8,
   "id": "54ccf74c",
   "metadata": {},
   "outputs": [
    {
     "name": "stdout",
     "output_type": "stream",
     "text": [
      "0.9998675058299389\n"
     ]
    }
   ],
   "source": [
    "init_params = np.array([0.011, 0.012], requires_grad=True)\n",
    "print(cost(init_params))"
   ]
  },
  {
   "cell_type": "code",
   "execution_count": 9,
   "id": "90e11b33",
   "metadata": {},
   "outputs": [
    {
     "name": "stdout",
     "output_type": "stream",
     "text": [
      "Cost after step     5:  0.9961778\n",
      "Cost after step    10:  0.8974944\n",
      "Cost after step    15:  0.1440490\n",
      "Cost after step    20: -0.1536720\n",
      "Cost after step    25: -0.9152496\n",
      "Cost after step    30: -0.9994046\n",
      "Cost after step    35: -0.9999964\n",
      "Cost after step    40: -1.0000000\n",
      "Cost after step    45: -1.0000000\n",
      "Cost after step    50: -1.0000000\n",
      "Cost after step    55: -1.0000000\n",
      "Cost after step    60: -1.0000000\n",
      "Cost after step    65: -1.0000000\n",
      "Cost after step    70: -1.0000000\n",
      "Cost after step    75: -1.0000000\n",
      "Cost after step    80: -1.0000000\n",
      "Cost after step    85: -1.0000000\n",
      "Cost after step    90: -1.0000000\n",
      "Cost after step    95: -1.0000000\n",
      "Cost after step   100: -1.0000000\n",
      "Optimized rotation angles: [7.15266381e-18 3.14159265e+00]\n"
     ]
    }
   ],
   "source": [
    "# initialise the optimizer\n",
    "opt = qml.GradientDescentOptimizer(stepsize=0.4)\n",
    "\n",
    "# set the number of steps\n",
    "steps = 100\n",
    "# set the initial parameter values\n",
    "params = init_params\n",
    "\n",
    "for i in range(steps):\n",
    "    # update the circuit parameters\n",
    "    params = opt.step(cost, params)\n",
    "\n",
    "    if (i + 1) % 5 == 0:\n",
    "        print(\"Cost after step {:5d}: {: .7f}\".format(i + 1, cost(params)))\n",
    "\n",
    "print(\"Optimized rotation angles: {}\".format(params))"
   ]
  }
 ],
 "metadata": {
  "kernelspec": {
   "display_name": "Python 3 (ipykernel)",
   "language": "python",
   "name": "python3"
  },
  "language_info": {
   "codemirror_mode": {
    "name": "ipython",
    "version": 3
   },
   "file_extension": ".py",
   "mimetype": "text/x-python",
   "name": "python",
   "nbconvert_exporter": "python",
   "pygments_lexer": "ipython3",
   "version": "3.9.7"
  }
 },
 "nbformat": 4,
 "nbformat_minor": 5
}
